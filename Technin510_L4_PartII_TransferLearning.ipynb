{
  "nbformat": 4,
  "nbformat_minor": 0,
  "metadata": {
    "colab": {
      "name": "Technin510_L4_PartII_TransferLearning.ipynb",
      "provenance": [],
      "collapsed_sections": [],
      "include_colab_link": true
    },
    "kernelspec": {
      "name": "python3",
      "display_name": "Python 3"
    },
    "language_info": {
      "name": "python"
    }
  },
  "cells": [
    {
      "cell_type": "markdown",
      "metadata": {
        "id": "view-in-github",
        "colab_type": "text"
      },
      "source": [
        "<a href=\"https://colab.research.google.com/github/tejabalu/HTML-CSS/blob/master/Technin510_L4_PartII_TransferLearning.ipynb\" target=\"_parent\"><img src=\"https://colab.research.google.com/assets/colab-badge.svg\" alt=\"Open In Colab\"/></a>"
      ]
    },
    {
      "cell_type": "code",
      "metadata": {
        "colab": {
          "base_uri": "https://localhost:8080/"
        },
        "id": "CqXEkT2ZYGy6",
        "outputId": "be37b3b7-b9f1-4010-be39-7162a3b5952d"
      },
      "source": [
        "import numpy as np\n",
        "import re\n",
        "from sklearn import svm, metrics\n",
        "from skimage import io, feature, filters, exposure, color\n",
        "from sklearn.externals import joblib\n",
        "from google.colab import drive\n",
        "drive.mount('/content/drive')\n",
        "\n",
        "import matplotlib.pyplot as plt\n",
        "import numpy as np\n",
        "import os\n",
        "import tensorflow as tf\n",
        "from tensorflow.keras import layers\n",
        "\n",
        "# TODO: Copy the code of `FeatureExtractor` class that you wrote \n",
        "########################\n",
        "######## YOUR CODE HERE\n",
        "########################\n",
        "\n",
        "class FeatureExtractor:\n",
        "    \n",
        "    def __init__(self):\n",
        "        self.classifier = None\n",
        "        self.folder = '/content/drive/My Drive/lab4-data/lab4-data/'\n",
        "\n",
        "    def imread_convert(self, f):\n",
        "        return io.imread(f).astype(np.uint8)\n",
        "\n",
        "    def save_classifier(self):\n",
        "        joblib.dump(self.classifier, self.folder + 'classifier.joblib')\n",
        "\n",
        "    def load_data_from_folder(self, dir):\n",
        "        # read all images into an image collection\n",
        "        ic = io.ImageCollection(self.folder + dir + '*.bmp',\n",
        "                                load_func=self.imread_convert)\n",
        "\n",
        "        # create one large array of image data\n",
        "        data = io.concatenate_images(ic)\n",
        "        \n",
        "        # extract labels from image names\n",
        "        labels = np.array(ic.files)\n",
        "        for i, f in enumerate(labels):\n",
        "            m = re.search('_', f)\n",
        "            labels[i] = (f[len(dir):m.start()]).split('/')[-1]\n",
        "        \n",
        "        return(data,labels)\n",
        "\n",
        "    def extract_image_features(self, data, feature):\n",
        "        \n",
        "        \n",
        "      \n",
        "        # apply greayscale \n",
        "        grayscale = rgb2gray(data)\n",
        "\n",
        "        # apply gaussian\n",
        "        filtered_images = filters.gaussian(grayscale)\n",
        "\n",
        "        # print(filtered_images.shape)\n",
        "\n",
        "        featured_images = []\n",
        "\n",
        "\n",
        "\n",
        "        for img in data:\n",
        "          featured_image = feature(img[:,:,0]).flatten()\n",
        "          featured_images.append(featured_image)\n",
        "\n",
        "        featured_images = np.array(featured_images)\n",
        "\n",
        "        return featured_images\n"
      ],
      "execution_count": null,
      "outputs": [
        {
          "output_type": "stream",
          "name": "stderr",
          "text": [
            "/usr/local/lib/python3.7/dist-packages/sklearn/externals/joblib/__init__.py:15: FutureWarning: sklearn.externals.joblib is deprecated in 0.21 and will be removed in 0.23. Please import this functionality directly from joblib, which can be installed with: pip install joblib. If this warning is raised when loading pickled models, you may need to re-serialize those models with scikit-learn 0.21+.\n",
            "  warnings.warn(msg, category=FutureWarning)\n"
          ]
        },
        {
          "output_type": "stream",
          "name": "stdout",
          "text": [
            "Mounted at /content/drive\n"
          ]
        }
      ]
    },
    {
      "cell_type": "markdown",
      "metadata": {
        "id": "a1EDu70XKKpd"
      },
      "source": [
        "`\\train` folder contains training+validation images.\n",
        "`\\test` folder contains testing images. \n",
        "\n",
        "All images belong to one of the 8 following classes `\"drone', 'hands', 'inspection', 'none', 'order', 'place', 'plane', 'truck'`\n",
        "\n",
        "## Step 1: Load the dataset"
      ]
    },
    {
      "cell_type": "code",
      "metadata": {
        "colab": {
          "base_uri": "https://localhost:8080/"
        },
        "id": "GOf8_9XOgS3C",
        "outputId": "a3e2f54b-3cfb-47f2-85b4-943715679b56"
      },
      "source": [
        "# TODO: Create an object of the class `FeatureExtractor`, call the object `img_clf`\n",
        "########################\n",
        "######## YOUR CODE HERE\n",
        "########################\n",
        "img_clf \n",
        "\n",
        "\n",
        "# load images\n",
        "(train_val_raw, train_val_labels) = img_clf.load_data_from_folder('train/')\n",
        "(test_raw, test_labels) = img_clf.load_data_from_folder('test/')\n",
        "\n",
        "classes = list(np.unique(train_val_labels))\n",
        "print(f\"Classes: {classes}\")"
      ],
      "execution_count": null,
      "outputs": [
        {
          "output_type": "stream",
          "name": "stdout",
          "text": [
            "Classes: ['drone', 'hands', 'inspection', 'none', 'order', 'place', 'plane', 'truck']\n"
          ]
        }
      ]
    },
    {
      "cell_type": "markdown",
      "metadata": {
        "id": "q2KuVzIwMzFu"
      },
      "source": [
        "Assign numbers from 0 to 7 for the eight classes that we have. \n",
        "\n",
        "0 => drone, 1 => hands, 2 => inspection, 3 => none, 4 => order, 5 => place, 6 => plane, 7 => truck\n",
        "\n",
        "Let's change string labels in `train_val_labels` and `test_labels` into these numerical labels now. "
      ]
    },
    {
      "cell_type": "code",
      "metadata": {
        "id": "ZKSG5hTF-raM"
      },
      "source": [
        "for i in range(len(classes)):\n",
        "    train_val_labels[train_val_labels == classes[i]] = i\n",
        "    test_labels[test_labels == classes[i]] = i\n",
        "\n",
        "train_val_labels = train_val_labels.astype(float)\n",
        "test_labels = test_labels.astype(float)"
      ],
      "execution_count": null,
      "outputs": []
    },
    {
      "cell_type": "markdown",
      "metadata": {
        "id": "2Vkba7TP0yAD"
      },
      "source": [
        "## Step 2: Creating TensorFlow datasets\n",
        "Creating training, validation and testing TensorFlow `Dataset`s from the numpy arrays we have. "
      ]
    },
    {
      "cell_type": "code",
      "metadata": {
        "colab": {
          "base_uri": "https://localhost:8080/"
        },
        "id": "lOvsfXqZjFj-",
        "outputId": "a4a485de-ed0e-48bc-8050-a0903dbf09b8"
      },
      "source": [
        "train_val_dataset = tf.data.Dataset.from_tensor_slices((train_val_raw, train_val_labels)) \n",
        "# shuffling the `train+val` dataset before separating them\n",
        "train_val_dataset = train_val_dataset.shuffle(buffer_size=len(train_val_dataset), seed=42)\n",
        "\n",
        "VAL_RATIO = 0.1 # Let's use 10% of the `train_val_dataset` for validation\n",
        "val_len = int(VAL_RATIO * len(train_val_raw))\n",
        "val_dataset = train_val_dataset.take(val_len)\n",
        "train_dataset = train_val_dataset.skip(val_len)\n",
        "\n",
        "test_dataset = tf.data.Dataset.from_tensor_slices((test_raw, test_labels)) \n",
        "test_dataset = test_dataset.shuffle(buffer_size=len(test_dataset), seed=42)        \n",
        "\n",
        "print(f\"Train size: {len(train_dataset)}\\nVal size: {len(val_dataset)}\\nTest size: {len(test_dataset)}\")"
      ],
      "execution_count": null,
      "outputs": [
        {
          "output_type": "stream",
          "name": "stdout",
          "text": [
            "Train size: 177\n",
            "Val size: 19\n",
            "Test size: 40\n"
          ]
        }
      ]
    },
    {
      "cell_type": "markdown",
      "metadata": {
        "id": "Jaz6TAW21JZi"
      },
      "source": [
        "Batching the Tensorflow datasets:"
      ]
    },
    {
      "cell_type": "code",
      "metadata": {
        "colab": {
          "base_uri": "https://localhost:8080/"
        },
        "id": "1zrdzb5ZwaIB",
        "outputId": "a7a4e70a-8ddd-4bd0-9f56-32a4af1bf448"
      },
      "source": [
        "BATCH_SIZE = 8\n",
        "train_dataset_batched = train_dataset.batch(BATCH_SIZE)\n",
        "val_dataset_batched = val_dataset.batch(BATCH_SIZE)\n",
        "test_dataset_batched = test_dataset.batch(BATCH_SIZE)\n",
        "\n",
        "print(f\"Train batches: {len(train_dataset_batched)}\\nVal batches: {len(val_dataset_batched)}\\nTest batches: {len(test_dataset_batched)}\")"
      ],
      "execution_count": null,
      "outputs": [
        {
          "output_type": "stream",
          "name": "stdout",
          "text": [
            "Train batches: 23\n",
            "Val batches: 3\n",
            "Test batches: 5\n"
          ]
        }
      ]
    },
    {
      "cell_type": "markdown",
      "metadata": {
        "id": "3iwsSrgFFgxd"
      },
      "source": [
        "## Mobile Net v2\n",
        "\n",
        "A general purpose, deployable computer vision neural network designed by Google that works efficiently for classification, detection and segmentation.  \n",
        "![](https://miro.medium.com/max/1016/1*5iA55983nBMlQn9f6ICxKg.png)\n",
        "\n",
        "\n",
        "\n",
        "Bottleneck operator means the Depthwise convolution layer block used in the original MobileNetv2 [paper](https://arxiv.org/pdf/1801.04381.pdf)."
      ]
    },
    {
      "cell_type": "markdown",
      "metadata": {
        "id": "ZP9Opc-sDQW0"
      },
      "source": [
        "## Step 3: Creating the basemodel"
      ]
    },
    {
      "cell_type": "code",
      "metadata": {
        "colab": {
          "base_uri": "https://localhost:8080/"
        },
        "id": "Ib6XvDxX1pvM",
        "outputId": "16dcfc69-0742-4c0b-e974-16bd65edd5a2"
      },
      "source": [
        "# Create the base model from the pre-trained model MobileNet V2\n",
        "IMG_SIZE = (224, 224)\n",
        "img_shape = IMG_SIZE + (3,)\n",
        "\n",
        "# Let's use MobileNetV2 available in Keras as pretrained network.  \n",
        "base_model = tf.keras.applications.MobileNetV2(input_shape=img_shape,\n",
        "                                               include_top=False,\n",
        "                                               weights='imagenet')\n",
        "base_model.trainable = False\n",
        "base_model.summary()"
      ],
      "execution_count": null,
      "outputs": [
        {
          "output_type": "stream",
          "name": "stdout",
          "text": [
            "Model: \"mobilenetv2_1.00_224\"\n",
            "__________________________________________________________________________________________________\n",
            "Layer (type)                    Output Shape         Param #     Connected to                     \n",
            "==================================================================================================\n",
            "input_18 (InputLayer)           [(None, 224, 224, 3) 0                                            \n",
            "__________________________________________________________________________________________________\n",
            "Conv1 (Conv2D)                  (None, 112, 112, 32) 864         input_18[0][0]                   \n",
            "__________________________________________________________________________________________________\n",
            "bn_Conv1 (BatchNormalization)   (None, 112, 112, 32) 128         Conv1[0][0]                      \n",
            "__________________________________________________________________________________________________\n",
            "Conv1_relu (ReLU)               (None, 112, 112, 32) 0           bn_Conv1[0][0]                   \n",
            "__________________________________________________________________________________________________\n",
            "expanded_conv_depthwise (Depthw (None, 112, 112, 32) 288         Conv1_relu[0][0]                 \n",
            "__________________________________________________________________________________________________\n",
            "expanded_conv_depthwise_BN (Bat (None, 112, 112, 32) 128         expanded_conv_depthwise[0][0]    \n",
            "__________________________________________________________________________________________________\n",
            "expanded_conv_depthwise_relu (R (None, 112, 112, 32) 0           expanded_conv_depthwise_BN[0][0] \n",
            "__________________________________________________________________________________________________\n",
            "expanded_conv_project (Conv2D)  (None, 112, 112, 16) 512         expanded_conv_depthwise_relu[0][0\n",
            "__________________________________________________________________________________________________\n",
            "expanded_conv_project_BN (Batch (None, 112, 112, 16) 64          expanded_conv_project[0][0]      \n",
            "__________________________________________________________________________________________________\n",
            "block_1_expand (Conv2D)         (None, 112, 112, 96) 1536        expanded_conv_project_BN[0][0]   \n",
            "__________________________________________________________________________________________________\n",
            "block_1_expand_BN (BatchNormali (None, 112, 112, 96) 384         block_1_expand[0][0]             \n",
            "__________________________________________________________________________________________________\n",
            "block_1_expand_relu (ReLU)      (None, 112, 112, 96) 0           block_1_expand_BN[0][0]          \n",
            "__________________________________________________________________________________________________\n",
            "block_1_pad (ZeroPadding2D)     (None, 113, 113, 96) 0           block_1_expand_relu[0][0]        \n",
            "__________________________________________________________________________________________________\n",
            "block_1_depthwise (DepthwiseCon (None, 56, 56, 96)   864         block_1_pad[0][0]                \n",
            "__________________________________________________________________________________________________\n",
            "block_1_depthwise_BN (BatchNorm (None, 56, 56, 96)   384         block_1_depthwise[0][0]          \n",
            "__________________________________________________________________________________________________\n",
            "block_1_depthwise_relu (ReLU)   (None, 56, 56, 96)   0           block_1_depthwise_BN[0][0]       \n",
            "__________________________________________________________________________________________________\n",
            "block_1_project (Conv2D)        (None, 56, 56, 24)   2304        block_1_depthwise_relu[0][0]     \n",
            "__________________________________________________________________________________________________\n",
            "block_1_project_BN (BatchNormal (None, 56, 56, 24)   96          block_1_project[0][0]            \n",
            "__________________________________________________________________________________________________\n",
            "block_2_expand (Conv2D)         (None, 56, 56, 144)  3456        block_1_project_BN[0][0]         \n",
            "__________________________________________________________________________________________________\n",
            "block_2_expand_BN (BatchNormali (None, 56, 56, 144)  576         block_2_expand[0][0]             \n",
            "__________________________________________________________________________________________________\n",
            "block_2_expand_relu (ReLU)      (None, 56, 56, 144)  0           block_2_expand_BN[0][0]          \n",
            "__________________________________________________________________________________________________\n",
            "block_2_depthwise (DepthwiseCon (None, 56, 56, 144)  1296        block_2_expand_relu[0][0]        \n",
            "__________________________________________________________________________________________________\n",
            "block_2_depthwise_BN (BatchNorm (None, 56, 56, 144)  576         block_2_depthwise[0][0]          \n",
            "__________________________________________________________________________________________________\n",
            "block_2_depthwise_relu (ReLU)   (None, 56, 56, 144)  0           block_2_depthwise_BN[0][0]       \n",
            "__________________________________________________________________________________________________\n",
            "block_2_project (Conv2D)        (None, 56, 56, 24)   3456        block_2_depthwise_relu[0][0]     \n",
            "__________________________________________________________________________________________________\n",
            "block_2_project_BN (BatchNormal (None, 56, 56, 24)   96          block_2_project[0][0]            \n",
            "__________________________________________________________________________________________________\n",
            "block_2_add (Add)               (None, 56, 56, 24)   0           block_1_project_BN[0][0]         \n",
            "                                                                 block_2_project_BN[0][0]         \n",
            "__________________________________________________________________________________________________\n",
            "block_3_expand (Conv2D)         (None, 56, 56, 144)  3456        block_2_add[0][0]                \n",
            "__________________________________________________________________________________________________\n",
            "block_3_expand_BN (BatchNormali (None, 56, 56, 144)  576         block_3_expand[0][0]             \n",
            "__________________________________________________________________________________________________\n",
            "block_3_expand_relu (ReLU)      (None, 56, 56, 144)  0           block_3_expand_BN[0][0]          \n",
            "__________________________________________________________________________________________________\n",
            "block_3_pad (ZeroPadding2D)     (None, 57, 57, 144)  0           block_3_expand_relu[0][0]        \n",
            "__________________________________________________________________________________________________\n",
            "block_3_depthwise (DepthwiseCon (None, 28, 28, 144)  1296        block_3_pad[0][0]                \n",
            "__________________________________________________________________________________________________\n",
            "block_3_depthwise_BN (BatchNorm (None, 28, 28, 144)  576         block_3_depthwise[0][0]          \n",
            "__________________________________________________________________________________________________\n",
            "block_3_depthwise_relu (ReLU)   (None, 28, 28, 144)  0           block_3_depthwise_BN[0][0]       \n",
            "__________________________________________________________________________________________________\n",
            "block_3_project (Conv2D)        (None, 28, 28, 32)   4608        block_3_depthwise_relu[0][0]     \n",
            "__________________________________________________________________________________________________\n",
            "block_3_project_BN (BatchNormal (None, 28, 28, 32)   128         block_3_project[0][0]            \n",
            "__________________________________________________________________________________________________\n",
            "block_4_expand (Conv2D)         (None, 28, 28, 192)  6144        block_3_project_BN[0][0]         \n",
            "__________________________________________________________________________________________________\n",
            "block_4_expand_BN (BatchNormali (None, 28, 28, 192)  768         block_4_expand[0][0]             \n",
            "__________________________________________________________________________________________________\n",
            "block_4_expand_relu (ReLU)      (None, 28, 28, 192)  0           block_4_expand_BN[0][0]          \n",
            "__________________________________________________________________________________________________\n",
            "block_4_depthwise (DepthwiseCon (None, 28, 28, 192)  1728        block_4_expand_relu[0][0]        \n",
            "__________________________________________________________________________________________________\n",
            "block_4_depthwise_BN (BatchNorm (None, 28, 28, 192)  768         block_4_depthwise[0][0]          \n",
            "__________________________________________________________________________________________________\n",
            "block_4_depthwise_relu (ReLU)   (None, 28, 28, 192)  0           block_4_depthwise_BN[0][0]       \n",
            "__________________________________________________________________________________________________\n",
            "block_4_project (Conv2D)        (None, 28, 28, 32)   6144        block_4_depthwise_relu[0][0]     \n",
            "__________________________________________________________________________________________________\n",
            "block_4_project_BN (BatchNormal (None, 28, 28, 32)   128         block_4_project[0][0]            \n",
            "__________________________________________________________________________________________________\n",
            "block_4_add (Add)               (None, 28, 28, 32)   0           block_3_project_BN[0][0]         \n",
            "                                                                 block_4_project_BN[0][0]         \n",
            "__________________________________________________________________________________________________\n",
            "block_5_expand (Conv2D)         (None, 28, 28, 192)  6144        block_4_add[0][0]                \n",
            "__________________________________________________________________________________________________\n",
            "block_5_expand_BN (BatchNormali (None, 28, 28, 192)  768         block_5_expand[0][0]             \n",
            "__________________________________________________________________________________________________\n",
            "block_5_expand_relu (ReLU)      (None, 28, 28, 192)  0           block_5_expand_BN[0][0]          \n",
            "__________________________________________________________________________________________________\n",
            "block_5_depthwise (DepthwiseCon (None, 28, 28, 192)  1728        block_5_expand_relu[0][0]        \n",
            "__________________________________________________________________________________________________\n",
            "block_5_depthwise_BN (BatchNorm (None, 28, 28, 192)  768         block_5_depthwise[0][0]          \n",
            "__________________________________________________________________________________________________\n",
            "block_5_depthwise_relu (ReLU)   (None, 28, 28, 192)  0           block_5_depthwise_BN[0][0]       \n",
            "__________________________________________________________________________________________________\n",
            "block_5_project (Conv2D)        (None, 28, 28, 32)   6144        block_5_depthwise_relu[0][0]     \n",
            "__________________________________________________________________________________________________\n",
            "block_5_project_BN (BatchNormal (None, 28, 28, 32)   128         block_5_project[0][0]            \n",
            "__________________________________________________________________________________________________\n",
            "block_5_add (Add)               (None, 28, 28, 32)   0           block_4_add[0][0]                \n",
            "                                                                 block_5_project_BN[0][0]         \n",
            "__________________________________________________________________________________________________\n",
            "block_6_expand (Conv2D)         (None, 28, 28, 192)  6144        block_5_add[0][0]                \n",
            "__________________________________________________________________________________________________\n",
            "block_6_expand_BN (BatchNormali (None, 28, 28, 192)  768         block_6_expand[0][0]             \n",
            "__________________________________________________________________________________________________\n",
            "block_6_expand_relu (ReLU)      (None, 28, 28, 192)  0           block_6_expand_BN[0][0]          \n",
            "__________________________________________________________________________________________________\n",
            "block_6_pad (ZeroPadding2D)     (None, 29, 29, 192)  0           block_6_expand_relu[0][0]        \n",
            "__________________________________________________________________________________________________\n",
            "block_6_depthwise (DepthwiseCon (None, 14, 14, 192)  1728        block_6_pad[0][0]                \n",
            "__________________________________________________________________________________________________\n",
            "block_6_depthwise_BN (BatchNorm (None, 14, 14, 192)  768         block_6_depthwise[0][0]          \n",
            "__________________________________________________________________________________________________\n",
            "block_6_depthwise_relu (ReLU)   (None, 14, 14, 192)  0           block_6_depthwise_BN[0][0]       \n",
            "__________________________________________________________________________________________________\n",
            "block_6_project (Conv2D)        (None, 14, 14, 64)   12288       block_6_depthwise_relu[0][0]     \n",
            "__________________________________________________________________________________________________\n",
            "block_6_project_BN (BatchNormal (None, 14, 14, 64)   256         block_6_project[0][0]            \n",
            "__________________________________________________________________________________________________\n",
            "block_7_expand (Conv2D)         (None, 14, 14, 384)  24576       block_6_project_BN[0][0]         \n",
            "__________________________________________________________________________________________________\n",
            "block_7_expand_BN (BatchNormali (None, 14, 14, 384)  1536        block_7_expand[0][0]             \n",
            "__________________________________________________________________________________________________\n",
            "block_7_expand_relu (ReLU)      (None, 14, 14, 384)  0           block_7_expand_BN[0][0]          \n",
            "__________________________________________________________________________________________________\n",
            "block_7_depthwise (DepthwiseCon (None, 14, 14, 384)  3456        block_7_expand_relu[0][0]        \n",
            "__________________________________________________________________________________________________\n",
            "block_7_depthwise_BN (BatchNorm (None, 14, 14, 384)  1536        block_7_depthwise[0][0]          \n",
            "__________________________________________________________________________________________________\n",
            "block_7_depthwise_relu (ReLU)   (None, 14, 14, 384)  0           block_7_depthwise_BN[0][0]       \n",
            "__________________________________________________________________________________________________\n",
            "block_7_project (Conv2D)        (None, 14, 14, 64)   24576       block_7_depthwise_relu[0][0]     \n",
            "__________________________________________________________________________________________________\n",
            "block_7_project_BN (BatchNormal (None, 14, 14, 64)   256         block_7_project[0][0]            \n",
            "__________________________________________________________________________________________________\n",
            "block_7_add (Add)               (None, 14, 14, 64)   0           block_6_project_BN[0][0]         \n",
            "                                                                 block_7_project_BN[0][0]         \n",
            "__________________________________________________________________________________________________\n",
            "block_8_expand (Conv2D)         (None, 14, 14, 384)  24576       block_7_add[0][0]                \n",
            "__________________________________________________________________________________________________\n",
            "block_8_expand_BN (BatchNormali (None, 14, 14, 384)  1536        block_8_expand[0][0]             \n",
            "__________________________________________________________________________________________________\n",
            "block_8_expand_relu (ReLU)      (None, 14, 14, 384)  0           block_8_expand_BN[0][0]          \n",
            "__________________________________________________________________________________________________\n",
            "block_8_depthwise (DepthwiseCon (None, 14, 14, 384)  3456        block_8_expand_relu[0][0]        \n",
            "__________________________________________________________________________________________________\n",
            "block_8_depthwise_BN (BatchNorm (None, 14, 14, 384)  1536        block_8_depthwise[0][0]          \n",
            "__________________________________________________________________________________________________\n",
            "block_8_depthwise_relu (ReLU)   (None, 14, 14, 384)  0           block_8_depthwise_BN[0][0]       \n",
            "__________________________________________________________________________________________________\n",
            "block_8_project (Conv2D)        (None, 14, 14, 64)   24576       block_8_depthwise_relu[0][0]     \n",
            "__________________________________________________________________________________________________\n",
            "block_8_project_BN (BatchNormal (None, 14, 14, 64)   256         block_8_project[0][0]            \n",
            "__________________________________________________________________________________________________\n",
            "block_8_add (Add)               (None, 14, 14, 64)   0           block_7_add[0][0]                \n",
            "                                                                 block_8_project_BN[0][0]         \n",
            "__________________________________________________________________________________________________\n",
            "block_9_expand (Conv2D)         (None, 14, 14, 384)  24576       block_8_add[0][0]                \n",
            "__________________________________________________________________________________________________\n",
            "block_9_expand_BN (BatchNormali (None, 14, 14, 384)  1536        block_9_expand[0][0]             \n",
            "__________________________________________________________________________________________________\n",
            "block_9_expand_relu (ReLU)      (None, 14, 14, 384)  0           block_9_expand_BN[0][0]          \n",
            "__________________________________________________________________________________________________\n",
            "block_9_depthwise (DepthwiseCon (None, 14, 14, 384)  3456        block_9_expand_relu[0][0]        \n",
            "__________________________________________________________________________________________________\n",
            "block_9_depthwise_BN (BatchNorm (None, 14, 14, 384)  1536        block_9_depthwise[0][0]          \n",
            "__________________________________________________________________________________________________\n",
            "block_9_depthwise_relu (ReLU)   (None, 14, 14, 384)  0           block_9_depthwise_BN[0][0]       \n",
            "__________________________________________________________________________________________________\n",
            "block_9_project (Conv2D)        (None, 14, 14, 64)   24576       block_9_depthwise_relu[0][0]     \n",
            "__________________________________________________________________________________________________\n",
            "block_9_project_BN (BatchNormal (None, 14, 14, 64)   256         block_9_project[0][0]            \n",
            "__________________________________________________________________________________________________\n",
            "block_9_add (Add)               (None, 14, 14, 64)   0           block_8_add[0][0]                \n",
            "                                                                 block_9_project_BN[0][0]         \n",
            "__________________________________________________________________________________________________\n",
            "block_10_expand (Conv2D)        (None, 14, 14, 384)  24576       block_9_add[0][0]                \n",
            "__________________________________________________________________________________________________\n",
            "block_10_expand_BN (BatchNormal (None, 14, 14, 384)  1536        block_10_expand[0][0]            \n",
            "__________________________________________________________________________________________________\n",
            "block_10_expand_relu (ReLU)     (None, 14, 14, 384)  0           block_10_expand_BN[0][0]         \n",
            "__________________________________________________________________________________________________\n",
            "block_10_depthwise (DepthwiseCo (None, 14, 14, 384)  3456        block_10_expand_relu[0][0]       \n",
            "__________________________________________________________________________________________________\n",
            "block_10_depthwise_BN (BatchNor (None, 14, 14, 384)  1536        block_10_depthwise[0][0]         \n",
            "__________________________________________________________________________________________________\n",
            "block_10_depthwise_relu (ReLU)  (None, 14, 14, 384)  0           block_10_depthwise_BN[0][0]      \n",
            "__________________________________________________________________________________________________\n",
            "block_10_project (Conv2D)       (None, 14, 14, 96)   36864       block_10_depthwise_relu[0][0]    \n",
            "__________________________________________________________________________________________________\n",
            "block_10_project_BN (BatchNorma (None, 14, 14, 96)   384         block_10_project[0][0]           \n",
            "__________________________________________________________________________________________________\n",
            "block_11_expand (Conv2D)        (None, 14, 14, 576)  55296       block_10_project_BN[0][0]        \n",
            "__________________________________________________________________________________________________\n",
            "block_11_expand_BN (BatchNormal (None, 14, 14, 576)  2304        block_11_expand[0][0]            \n",
            "__________________________________________________________________________________________________\n",
            "block_11_expand_relu (ReLU)     (None, 14, 14, 576)  0           block_11_expand_BN[0][0]         \n",
            "__________________________________________________________________________________________________\n",
            "block_11_depthwise (DepthwiseCo (None, 14, 14, 576)  5184        block_11_expand_relu[0][0]       \n",
            "__________________________________________________________________________________________________\n",
            "block_11_depthwise_BN (BatchNor (None, 14, 14, 576)  2304        block_11_depthwise[0][0]         \n",
            "__________________________________________________________________________________________________\n",
            "block_11_depthwise_relu (ReLU)  (None, 14, 14, 576)  0           block_11_depthwise_BN[0][0]      \n",
            "__________________________________________________________________________________________________\n",
            "block_11_project (Conv2D)       (None, 14, 14, 96)   55296       block_11_depthwise_relu[0][0]    \n",
            "__________________________________________________________________________________________________\n",
            "block_11_project_BN (BatchNorma (None, 14, 14, 96)   384         block_11_project[0][0]           \n",
            "__________________________________________________________________________________________________\n",
            "block_11_add (Add)              (None, 14, 14, 96)   0           block_10_project_BN[0][0]        \n",
            "                                                                 block_11_project_BN[0][0]        \n",
            "__________________________________________________________________________________________________\n",
            "block_12_expand (Conv2D)        (None, 14, 14, 576)  55296       block_11_add[0][0]               \n",
            "__________________________________________________________________________________________________\n",
            "block_12_expand_BN (BatchNormal (None, 14, 14, 576)  2304        block_12_expand[0][0]            \n",
            "__________________________________________________________________________________________________\n",
            "block_12_expand_relu (ReLU)     (None, 14, 14, 576)  0           block_12_expand_BN[0][0]         \n",
            "__________________________________________________________________________________________________\n",
            "block_12_depthwise (DepthwiseCo (None, 14, 14, 576)  5184        block_12_expand_relu[0][0]       \n",
            "__________________________________________________________________________________________________\n",
            "block_12_depthwise_BN (BatchNor (None, 14, 14, 576)  2304        block_12_depthwise[0][0]         \n",
            "__________________________________________________________________________________________________\n",
            "block_12_depthwise_relu (ReLU)  (None, 14, 14, 576)  0           block_12_depthwise_BN[0][0]      \n",
            "__________________________________________________________________________________________________\n",
            "block_12_project (Conv2D)       (None, 14, 14, 96)   55296       block_12_depthwise_relu[0][0]    \n",
            "__________________________________________________________________________________________________\n",
            "block_12_project_BN (BatchNorma (None, 14, 14, 96)   384         block_12_project[0][0]           \n",
            "__________________________________________________________________________________________________\n",
            "block_12_add (Add)              (None, 14, 14, 96)   0           block_11_add[0][0]               \n",
            "                                                                 block_12_project_BN[0][0]        \n",
            "__________________________________________________________________________________________________\n",
            "block_13_expand (Conv2D)        (None, 14, 14, 576)  55296       block_12_add[0][0]               \n",
            "__________________________________________________________________________________________________\n",
            "block_13_expand_BN (BatchNormal (None, 14, 14, 576)  2304        block_13_expand[0][0]            \n",
            "__________________________________________________________________________________________________\n",
            "block_13_expand_relu (ReLU)     (None, 14, 14, 576)  0           block_13_expand_BN[0][0]         \n",
            "__________________________________________________________________________________________________\n",
            "block_13_pad (ZeroPadding2D)    (None, 15, 15, 576)  0           block_13_expand_relu[0][0]       \n",
            "__________________________________________________________________________________________________\n",
            "block_13_depthwise (DepthwiseCo (None, 7, 7, 576)    5184        block_13_pad[0][0]               \n",
            "__________________________________________________________________________________________________\n",
            "block_13_depthwise_BN (BatchNor (None, 7, 7, 576)    2304        block_13_depthwise[0][0]         \n",
            "__________________________________________________________________________________________________\n",
            "block_13_depthwise_relu (ReLU)  (None, 7, 7, 576)    0           block_13_depthwise_BN[0][0]      \n",
            "__________________________________________________________________________________________________\n",
            "block_13_project (Conv2D)       (None, 7, 7, 160)    92160       block_13_depthwise_relu[0][0]    \n",
            "__________________________________________________________________________________________________\n",
            "block_13_project_BN (BatchNorma (None, 7, 7, 160)    640         block_13_project[0][0]           \n",
            "__________________________________________________________________________________________________\n",
            "block_14_expand (Conv2D)        (None, 7, 7, 960)    153600      block_13_project_BN[0][0]        \n",
            "__________________________________________________________________________________________________\n",
            "block_14_expand_BN (BatchNormal (None, 7, 7, 960)    3840        block_14_expand[0][0]            \n",
            "__________________________________________________________________________________________________\n",
            "block_14_expand_relu (ReLU)     (None, 7, 7, 960)    0           block_14_expand_BN[0][0]         \n",
            "__________________________________________________________________________________________________\n",
            "block_14_depthwise (DepthwiseCo (None, 7, 7, 960)    8640        block_14_expand_relu[0][0]       \n",
            "__________________________________________________________________________________________________\n",
            "block_14_depthwise_BN (BatchNor (None, 7, 7, 960)    3840        block_14_depthwise[0][0]         \n",
            "__________________________________________________________________________________________________\n",
            "block_14_depthwise_relu (ReLU)  (None, 7, 7, 960)    0           block_14_depthwise_BN[0][0]      \n",
            "__________________________________________________________________________________________________\n",
            "block_14_project (Conv2D)       (None, 7, 7, 160)    153600      block_14_depthwise_relu[0][0]    \n",
            "__________________________________________________________________________________________________\n",
            "block_14_project_BN (BatchNorma (None, 7, 7, 160)    640         block_14_project[0][0]           \n",
            "__________________________________________________________________________________________________\n",
            "block_14_add (Add)              (None, 7, 7, 160)    0           block_13_project_BN[0][0]        \n",
            "                                                                 block_14_project_BN[0][0]        \n",
            "__________________________________________________________________________________________________\n",
            "block_15_expand (Conv2D)        (None, 7, 7, 960)    153600      block_14_add[0][0]               \n",
            "__________________________________________________________________________________________________\n",
            "block_15_expand_BN (BatchNormal (None, 7, 7, 960)    3840        block_15_expand[0][0]            \n",
            "__________________________________________________________________________________________________\n",
            "block_15_expand_relu (ReLU)     (None, 7, 7, 960)    0           block_15_expand_BN[0][0]         \n",
            "__________________________________________________________________________________________________\n",
            "block_15_depthwise (DepthwiseCo (None, 7, 7, 960)    8640        block_15_expand_relu[0][0]       \n",
            "__________________________________________________________________________________________________\n",
            "block_15_depthwise_BN (BatchNor (None, 7, 7, 960)    3840        block_15_depthwise[0][0]         \n",
            "__________________________________________________________________________________________________\n",
            "block_15_depthwise_relu (ReLU)  (None, 7, 7, 960)    0           block_15_depthwise_BN[0][0]      \n",
            "__________________________________________________________________________________________________\n",
            "block_15_project (Conv2D)       (None, 7, 7, 160)    153600      block_15_depthwise_relu[0][0]    \n",
            "__________________________________________________________________________________________________\n",
            "block_15_project_BN (BatchNorma (None, 7, 7, 160)    640         block_15_project[0][0]           \n",
            "__________________________________________________________________________________________________\n",
            "block_15_add (Add)              (None, 7, 7, 160)    0           block_14_add[0][0]               \n",
            "                                                                 block_15_project_BN[0][0]        \n",
            "__________________________________________________________________________________________________\n",
            "block_16_expand (Conv2D)        (None, 7, 7, 960)    153600      block_15_add[0][0]               \n",
            "__________________________________________________________________________________________________\n",
            "block_16_expand_BN (BatchNormal (None, 7, 7, 960)    3840        block_16_expand[0][0]            \n",
            "__________________________________________________________________________________________________\n",
            "block_16_expand_relu (ReLU)     (None, 7, 7, 960)    0           block_16_expand_BN[0][0]         \n",
            "__________________________________________________________________________________________________\n",
            "block_16_depthwise (DepthwiseCo (None, 7, 7, 960)    8640        block_16_expand_relu[0][0]       \n",
            "__________________________________________________________________________________________________\n",
            "block_16_depthwise_BN (BatchNor (None, 7, 7, 960)    3840        block_16_depthwise[0][0]         \n",
            "__________________________________________________________________________________________________\n",
            "block_16_depthwise_relu (ReLU)  (None, 7, 7, 960)    0           block_16_depthwise_BN[0][0]      \n",
            "__________________________________________________________________________________________________\n",
            "block_16_project (Conv2D)       (None, 7, 7, 320)    307200      block_16_depthwise_relu[0][0]    \n",
            "__________________________________________________________________________________________________\n",
            "block_16_project_BN (BatchNorma (None, 7, 7, 320)    1280        block_16_project[0][0]           \n",
            "__________________________________________________________________________________________________\n",
            "Conv_1 (Conv2D)                 (None, 7, 7, 1280)   409600      block_16_project_BN[0][0]        \n",
            "__________________________________________________________________________________________________\n",
            "Conv_1_bn (BatchNormalization)  (None, 7, 7, 1280)   5120        Conv_1[0][0]                     \n",
            "__________________________________________________________________________________________________\n",
            "out_relu (ReLU)                 (None, 7, 7, 1280)   0           Conv_1_bn[0][0]                  \n",
            "==================================================================================================\n",
            "Total params: 2,257,984\n",
            "Trainable params: 0\n",
            "Non-trainable params: 2,257,984\n",
            "__________________________________________________________________________________________________\n"
          ]
        }
      ]
    },
    {
      "cell_type": "markdown",
      "metadata": {
        "id": "hJfBp_fk5j59"
      },
      "source": [
        "## Step 4: Creating essential layers\n",
        "Let's define and understand essential layers"
      ]
    },
    {
      "cell_type": "markdown",
      "metadata": {
        "id": "HfSZyrXk54SL"
      },
      "source": [
        "### Global Average Pooling\n",
        "\n",
        "![image](https://media.springernature.com/original/springer-static/image/chp%3A10.1007%2F978-3-030-34113-8_22/MediaObjects/491550_1_En_22_Fig1_HTML.png)"
      ]
    },
    {
      "cell_type": "markdown",
      "metadata": {
        "id": "pQpgBXZLDYFL"
      },
      "source": [
        "### Depthwise convolution\n",
        "\n",
        "Difference between regualar and Depthwise convolution visualized.\n",
        "\n",
        "\n",
        "Regular convolution\n",
        "\n",
        "![](https://miro.medium.com/max/778/1*sYpl-7LlrtlOKW8RvlyKOg.png)\n",
        "\n",
        "\n",
        "Depthwise convolution\n",
        "\n",
        "![](https://miro.medium.com/max/1038/1*Esdvt3HLoEQFen94x29Z0A.png)"
      ]
    },
    {
      "cell_type": "code",
      "metadata": {
        "id": "sNi9wanS5iB4"
      },
      "source": [
        "preprocess_input_fn = tf.keras.applications.mobilenet_v2.preprocess_input \n",
        "global_average_layer = tf.keras.layers.GlobalAveragePooling2D()\n",
        "prediction_layer = tf.keras.layers.Dense(len(classes))\n",
        "\n",
        "resize = layers.experimental.preprocessing.Resizing(*IMG_SIZE)"
      ],
      "execution_count": null,
      "outputs": []
    },
    {
      "cell_type": "markdown",
      "metadata": {
        "id": "a2hCh28wDwnB"
      },
      "source": [
        "## Step 5: Building the model"
      ]
    },
    {
      "cell_type": "markdown",
      "metadata": {
        "id": "pTk8RKBL5XKB"
      },
      "source": [
        "Let's build our model using the Keras functional API"
      ]
    },
    {
      "cell_type": "code",
      "metadata": {
        "id": "gQ_x-fXd1u0f"
      },
      "source": [
        "inputs = tf.keras.Input(shape=(240, 320, 3))\n",
        "inputs_resized = resize(inputs)\n",
        "\n",
        "# TODO: Preprocess the inputs using the `preprocessed_inputs_fn` defined, and save\n",
        "#       the results in `preprocessed_inputs` variable\n",
        "########################\n",
        "######## YOUR CODE HERE\n",
        "########################\n",
        " \n",
        "\n",
        "to_gap = base_model(preprocessed_inputs, training=False)\n",
        "\n",
        "# TODO:  Pass the `to_gap` outputs in the defined `global_average_layer`, and save \n",
        "#        the results in `from_gap` variable\n",
        "########################\n",
        "######## YOUR CODE HERE\n",
        "########################\n",
        "\n",
        "\n",
        "x = tf.keras.layers.Dropout(0.2)(from_gap)\n",
        "outputs = prediction_layer(x)\n",
        "model = tf.keras.Model(inputs, outputs)"
      ],
      "execution_count": null,
      "outputs": []
    },
    {
      "cell_type": "code",
      "metadata": {
        "colab": {
          "base_uri": "https://localhost:8080/"
        },
        "id": "t8qK8mu-6qVK",
        "outputId": "973e3b0f-898c-48ab-abb5-cf4ec0ab9d92"
      },
      "source": [
        "base_learning_rate = 0.0001\n",
        "model.compile(optimizer=tf.keras.optimizers.Adam(lr=base_learning_rate),\n",
        "              loss=tf.keras.losses.SparseCategoricalCrossentropy(from_logits=True),\n",
        "              metrics=['accuracy'])\n",
        "model.summary()"
      ],
      "execution_count": null,
      "outputs": [
        {
          "output_type": "stream",
          "name": "stdout",
          "text": [
            "Model: \"model_9\"\n",
            "_________________________________________________________________\n",
            "Layer (type)                 Output Shape              Param #   \n",
            "=================================================================\n",
            "input_19 (InputLayer)        [(None, 240, 320, 3)]     0         \n",
            "_________________________________________________________________\n",
            "resizing_8 (Resizing)        (None, 224, 224, 3)       0         \n",
            "_________________________________________________________________\n",
            "tf.math.truediv_9 (TFOpLambd (None, 224, 224, 3)       0         \n",
            "_________________________________________________________________\n",
            "tf.math.subtract_9 (TFOpLamb (None, 224, 224, 3)       0         \n",
            "_________________________________________________________________\n",
            "mobilenetv2_1.00_224 (Functi (None, 7, 7, 1280)        2257984   \n",
            "_________________________________________________________________\n",
            "global_average_pooling2d_8 ( (None, 1280)              0         \n",
            "_________________________________________________________________\n",
            "dropout_10 (Dropout)         (None, 1280)              0         \n",
            "_________________________________________________________________\n",
            "dense_8 (Dense)              (None, 8)                 10248     \n",
            "=================================================================\n",
            "Total params: 2,268,232\n",
            "Trainable params: 10,248\n",
            "Non-trainable params: 2,257,984\n",
            "_________________________________________________________________\n"
          ]
        },
        {
          "output_type": "stream",
          "name": "stderr",
          "text": [
            "/usr/local/lib/python3.7/dist-packages/keras/optimizer_v2/optimizer_v2.py:356: UserWarning: The `lr` argument is deprecated, use `learning_rate` instead.\n",
            "  \"The `lr` argument is deprecated, use `learning_rate` instead.\")\n"
          ]
        }
      ]
    },
    {
      "cell_type": "markdown",
      "metadata": {
        "id": "6vpBHroc9vfD"
      },
      "source": [
        "## Step 6: Transfer-learning (training the model)\n",
        "Training our model for 20 epochs"
      ]
    },
    {
      "cell_type": "code",
      "metadata": {
        "colab": {
          "base_uri": "https://localhost:8080/"
        },
        "id": "hCOzgAGP7KRH",
        "outputId": "3a9a6bdb-0554-4247-df04-8074112c520f"
      },
      "source": [
        "EPOCHS = 20\n",
        "\n",
        "# TODO:  Train the model using  Keras `model.fit`. Use the batched train and val datasets.\n",
        "########################\n",
        "######## YOUR CODE HERE\n",
        "########################\n"
      ],
      "execution_count": null,
      "outputs": [
        {
          "output_type": "stream",
          "name": "stdout",
          "text": [
            "Epoch 1/20\n",
            "23/23 [==============================] - 7s 189ms/step - loss: 2.3287 - accuracy: 0.1186 - val_loss: 1.9285 - val_accuracy: 0.1053\n",
            "Epoch 2/20\n",
            "23/23 [==============================] - 4s 162ms/step - loss: 2.0424 - accuracy: 0.1921 - val_loss: 1.9113 - val_accuracy: 0.2105\n",
            "Epoch 3/20\n",
            "23/23 [==============================] - 4s 159ms/step - loss: 1.9327 - accuracy: 0.2599 - val_loss: 1.6698 - val_accuracy: 0.4211\n",
            "Epoch 4/20\n",
            "23/23 [==============================] - 4s 160ms/step - loss: 1.7745 - accuracy: 0.2994 - val_loss: 1.4279 - val_accuracy: 0.5789\n",
            "Epoch 5/20\n",
            "23/23 [==============================] - 4s 160ms/step - loss: 1.6448 - accuracy: 0.3955 - val_loss: 1.3683 - val_accuracy: 0.6316\n",
            "Epoch 6/20\n",
            "23/23 [==============================] - 4s 159ms/step - loss: 1.5402 - accuracy: 0.4576 - val_loss: 1.3253 - val_accuracy: 0.7368\n",
            "Epoch 7/20\n",
            "23/23 [==============================] - 4s 158ms/step - loss: 1.4758 - accuracy: 0.4915 - val_loss: 1.1073 - val_accuracy: 0.7895\n",
            "Epoch 8/20\n",
            "23/23 [==============================] - 4s 160ms/step - loss: 1.3392 - accuracy: 0.5819 - val_loss: 1.3792 - val_accuracy: 0.6316\n",
            "Epoch 9/20\n",
            "23/23 [==============================] - 4s 161ms/step - loss: 1.2581 - accuracy: 0.5989 - val_loss: 0.9711 - val_accuracy: 0.9474\n",
            "Epoch 10/20\n",
            "23/23 [==============================] - 4s 159ms/step - loss: 1.2516 - accuracy: 0.6158 - val_loss: 1.1243 - val_accuracy: 0.7895\n",
            "Epoch 11/20\n",
            "23/23 [==============================] - 4s 160ms/step - loss: 1.0763 - accuracy: 0.7119 - val_loss: 0.8755 - val_accuracy: 0.8947\n",
            "Epoch 12/20\n",
            "23/23 [==============================] - 4s 158ms/step - loss: 1.0788 - accuracy: 0.7062 - val_loss: 1.0892 - val_accuracy: 0.7895\n",
            "Epoch 13/20\n",
            "23/23 [==============================] - 4s 160ms/step - loss: 0.9295 - accuracy: 0.7910 - val_loss: 0.9306 - val_accuracy: 0.7895\n",
            "Epoch 14/20\n",
            "23/23 [==============================] - 4s 158ms/step - loss: 0.8971 - accuracy: 0.8023 - val_loss: 0.6694 - val_accuracy: 1.0000\n",
            "Epoch 15/20\n",
            "23/23 [==============================] - 4s 158ms/step - loss: 0.8504 - accuracy: 0.8644 - val_loss: 0.7433 - val_accuracy: 0.9474\n",
            "Epoch 16/20\n",
            "23/23 [==============================] - 4s 160ms/step - loss: 0.8501 - accuracy: 0.8192 - val_loss: 0.8570 - val_accuracy: 0.9474\n",
            "Epoch 17/20\n",
            "23/23 [==============================] - 4s 159ms/step - loss: 0.7770 - accuracy: 0.8305 - val_loss: 0.7177 - val_accuracy: 1.0000\n",
            "Epoch 18/20\n",
            "23/23 [==============================] - 4s 159ms/step - loss: 0.7416 - accuracy: 0.8475 - val_loss: 0.5545 - val_accuracy: 1.0000\n",
            "Epoch 19/20\n",
            "23/23 [==============================] - 4s 158ms/step - loss: 0.6683 - accuracy: 0.9040 - val_loss: 0.5594 - val_accuracy: 1.0000\n",
            "Epoch 20/20\n",
            "23/23 [==============================] - 4s 161ms/step - loss: 0.6724 - accuracy: 0.8814 - val_loss: 0.4833 - val_accuracy: 1.0000\n"
          ]
        }
      ]
    },
    {
      "cell_type": "markdown",
      "metadata": {
        "id": "mDZwTaJ7D-iL"
      },
      "source": [
        "## Step 7: Testing"
      ]
    },
    {
      "cell_type": "code",
      "metadata": {
        "colab": {
          "base_uri": "https://localhost:8080/"
        },
        "id": "Cz3wsnoaCjUn",
        "outputId": "e5b2069e-1599-4b9f-8e87-affef8e0fdd3"
      },
      "source": [
        "# TODO:  Test the model using  Keras `model.evaluate`. Use the batched test dataset.\n",
        "#        Print the accuracy\n",
        "########################\n",
        "######## YOUR CODE HERE\n",
        "########################\n",
        "\n"
      ],
      "execution_count": null,
      "outputs": [
        {
          "output_type": "stream",
          "name": "stdout",
          "text": [
            "5/5 [==============================] - 1s 151ms/step - loss: 0.6509 - accuracy: 1.0000\n",
            "Test accuracy : 1.0\n"
          ]
        }
      ]
    },
    {
      "cell_type": "markdown",
      "metadata": {
        "id": "80K6SOjK_4oi"
      },
      "source": [
        "Let's run the trained network on one batch of test-dataset and compare its output with ground-truth labels"
      ]
    },
    {
      "cell_type": "code",
      "metadata": {
        "id": "vLam_DmpCrfu"
      },
      "source": [
        "image_batch, label_batch = test_dataset_batched.as_numpy_iterator().next()\n",
        "predictions = model.predict_on_batch(image_batch).argmax(axis=1)"
      ],
      "execution_count": null,
      "outputs": []
    },
    {
      "cell_type": "code",
      "metadata": {
        "colab": {
          "base_uri": "https://localhost:8080/"
        },
        "id": "X_2287FoCxa7",
        "outputId": "7cf7cf78-6333-419d-bc23-a6654a3de3c9"
      },
      "source": [
        "print(f\"Labels     : {label_batch}\\nPredictions: {predictions.astype(float)}\")"
      ],
      "execution_count": null,
      "outputs": [
        {
          "output_type": "stream",
          "name": "stdout",
          "text": [
            "Labels     : [6. 2. 1. 0. 2. 1. 7. 5.]\n",
            "Predictions: [6. 2. 1. 0. 2. 1. 7. 5.]\n"
          ]
        }
      ]
    }
  ]
}